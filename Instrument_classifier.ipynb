{
 "cells": [
  {
   "cell_type": "markdown",
   "metadata": {},
   "source": [
    "# Instrument Classification"
   ]
  },
  {
   "cell_type": "code",
   "execution_count": 1,
   "metadata": {},
   "outputs": [],
   "source": [
    "# Import libraries\n",
    "import os, fnmatch\n",
    "import IPython.display as ipd\n",
    "import numpy as np\n",
    "import matplotlib.pyplot as plt\n",
    "import librosa\n",
    "import librosa.display"
   ]
  },
  {
   "cell_type": "markdown",
   "metadata": {},
   "source": [
    "## Pre Processing"
   ]
  },
  {
   "cell_type": "code",
   "execution_count": 22,
   "metadata": {},
   "outputs": [
    {
     "data": {
      "text/plain": [
       "190"
      ]
     },
     "execution_count": 22,
     "metadata": {},
     "output_type": "execute_result"
    }
   ],
   "source": [
    "# Importing datasets from files to array\n",
    "labels = []\n",
    "files = []\n",
    "\n",
    "# Load guitar data and append a new guitar label & file path \n",
    "# for each '.wav' file found\n",
    "guitarPath='Datasets/guitar/'\n",
    "for file in os.listdir(guitarPath):\n",
    "    if fnmatch.fnmatch(file, '*.wav'):\n",
    "        labels.append('guitar')\n",
    "        files.append(guitarPath+file)\n",
    "        #print(file)\n",
    "\n",
    "# Load piano data and append a new piano label & file path \n",
    "# for each '.wav' file found \n",
    "pianoPath='Datasets/piano/'\n",
    "for file in os.listdir(pianoPath):\n",
    "    if fnmatch.fnmatch(file, '*.wav'):\n",
    "        labels.append('piano')\n",
    "        files.append(pianoPath+file)\n",
    "        #print(file)\n",
    "        \n",
    "#len(files)\n",
    "#files\n",
    "#labels"
   ]
  },
  {
   "cell_type": "code",
   "execution_count": 3,
   "metadata": {},
   "outputs": [],
   "source": [
    "# Encode target values found in 'labels' array\n",
    "from sklearn.preprocessing import LabelEncoder\n",
    "le = LabelEncoder()\n",
    "le.fit(labels)\n",
    "Y = le.transform(labels)"
   ]
  },
  {
   "cell_type": "code",
   "execution_count": 4,
   "metadata": {},
   "outputs": [],
   "source": [
    "# Load files from 'files' array & extract MFCC data\n",
    "X = []\n",
    "for file in (files):\n",
    "    data, sr = librosa.load(file)\n",
    "    if len(data) is None:  # Catch error for incorrect file loading\n",
    "        print(\"Error loading\")\n",
    "        break\n",
    "    mfccs = librosa.feature.mfcc(data, n_mfcc=13, sr=sr)\n",
    "    features = np.mean(mfccs,1)\n",
    "    X.append(features)  # Append MFCC audio features to X data array"
   ]
  },
  {
   "cell_type": "code",
   "execution_count": 5,
   "metadata": {},
   "outputs": [],
   "source": [
    "# Split the X and Y data into training and testing sets\n",
    "from sklearn.model_selection import train_test_split\n",
    "X_train, X_test, Y_train, Y_test = train_test_split(X, Y, test_size=0.3, random_state=1)"
   ]
  },
  {
   "cell_type": "code",
   "execution_count": 6,
   "metadata": {},
   "outputs": [],
   "source": [
    "# Data scaling\n",
    "from sklearn.preprocessing import StandardScaler\n",
    "sc = StandardScaler() \n",
    "scaled_X_train = sc.fit_transform(X_train)\n",
    "scaled_X_test = sc.fit_transform(X_test)"
   ]
  },
  {
   "cell_type": "markdown",
   "metadata": {},
   "source": [
    "## Neural Network Model"
   ]
  },
  {
   "cell_type": "code",
   "execution_count": 7,
   "metadata": {},
   "outputs": [
    {
     "name": "stderr",
     "output_type": "stream",
     "text": [
      "/home/shaun/anaconda3/lib/python3.8/site-packages/sklearn/neural_network/_multilayer_perceptron.py:582: ConvergenceWarning: Stochastic Optimizer: Maximum iterations (200) reached and the optimization hasn't converged yet.\n",
      "  warnings.warn(\n"
     ]
    }
   ],
   "source": [
    "# Apply the Neural Netwrok learning model and train it\n",
    "from sklearn.neural_network import MLPClassifier\n",
    "model = MLPClassifier()\n",
    "model.fit(scaled_X_train, Y_train)\n",
    "\n",
    "# Get model predictions\n",
    "pred_Y_train = model.predict(scaled_X_train)\n",
    "pred_Y_test = model.predict(scaled_X_test)\n",
    "\n",
    "# Evaluate the model\n",
    "scaledTrainScore=\"Scaled train score = {:0.3f}\".format(model.score(scaled_X_train, Y_train))\n",
    "scaledTestScore=\"Scaled test score = {:0.3f}\".format(model.score(scaled_X_test, Y_test))"
   ]
  },
  {
   "cell_type": "code",
   "execution_count": 8,
   "metadata": {},
   "outputs": [
    {
     "name": "stdout",
     "output_type": "stream",
     "text": [
      "Scaled train score = 1.000\n",
      "Scaled test score = 0.965\n"
     ]
    }
   ],
   "source": [
    "# Basic model accuracy\n",
    "print(scaledTrainScore)\n",
    "print(scaledTestScore)"
   ]
  },
  {
   "cell_type": "code",
   "execution_count": 9,
   "metadata": {},
   "outputs": [
    {
     "name": "stdout",
     "output_type": "stream",
     "text": [
      "              precision    recall  f1-score   support\n",
      "\n",
      "      guitar       1.00      0.91      0.95        23\n",
      "      violin       0.94      1.00      0.97        34\n",
      "\n",
      "    accuracy                           0.96        57\n",
      "   macro avg       0.97      0.96      0.96        57\n",
      "weighted avg       0.97      0.96      0.96        57\n",
      "\n"
     ]
    }
   ],
   "source": [
    "# Evaluate the model using default classification report\n",
    "from sklearn.metrics import classification_report\n",
    "target_names = ['guitar','violin']\n",
    "print(classification_report(Y_test, pred_Y_test, target_names=target_names))"
   ]
  },
  {
   "cell_type": "code",
   "execution_count": 10,
   "metadata": {},
   "outputs": [
    {
     "data": {
      "image/png": "[encoded data removed]",
      "text/plain": [
       "<Figure size 432x288 with 2 Axes>"
      ]
     },
     "metadata": {
      "needs_background": "light"
     },
     "output_type": "display_data"
    }
   ],
   "source": [
    "# Plot Confusion Matrix\n",
    "from cf_matrix import make_confusion_matrix  # Import library\n",
    "from sklearn.metrics import confusion_matrix\n",
    "cfm = confusion_matrix(Y_test, pred_Y_test) \n",
    "cfm_labels = ['True Negative','False Positive','False Negative','True Positive']  # set cfm labels\n",
    "categories = ['guitar','violin'] # Set group names based on Y data labels\n",
    "make_confusion_matrix(cfm,  # Format confusion matrix using custom library\n",
    "                      title='Instrument Confusion Matrix',\n",
    "                      group_names=cfm_labels,\n",
    "                      categories=categories,\n",
    "                      sum_stats=True,\n",
    "                      percent=True)"
   ]
  },
  {
   "cell_type": "markdown",
   "metadata": {},
   "source": [
    "## Logistical Regression Model"
   ]
  },
  {
   "cell_type": "code",
   "execution_count": 11,
   "metadata": {},
   "outputs": [],
   "source": [
    "# Apply the Logistical regression learning model and train it\n",
    "from sklearn.linear_model import LogisticRegression\n",
    "model = LogisticRegression()\n",
    "model.fit(scaled_X_train, Y_train)  # Train the model using the training data\n",
    "\n",
    "# Get model predictions\n",
    "pred_Y_train = model.predict(scaled_X_train)\n",
    "pred_Y_test = model.predict(scaled_X_test)\n",
    "\n",
    "# Evaluate the model\n",
    "scaledTrainScore=\"Scaled train score = {:0.3f}\".format(model.score(scaled_X_train, Y_train))\n",
    "scaledTestScore=\"Scaled test score = {:0.3f}\".format(model.score(scaled_X_test, Y_test))"
   ]
  },
  {
   "cell_type": "code",
   "execution_count": 12,
   "metadata": {},
   "outputs": [
    {
     "name": "stdout",
     "output_type": "stream",
     "text": [
      "Scaled train score = 1.000\n",
      "Scaled test score = 1.000\n"
     ]
    }
   ],
   "source": [
    "# Basic model accuracy\n",
    "print(scaledTrainScore)\n",
    "print(scaledTestScore)"
   ]
  },
  {
   "cell_type": "code",
   "execution_count": 13,
   "metadata": {},
   "outputs": [
    {
     "name": "stdout",
     "output_type": "stream",
     "text": [
      "              precision    recall  f1-score   support\n",
      "\n",
      "      guitar       1.00      1.00      1.00        23\n",
      "      violin       1.00      1.00      1.00        34\n",
      "\n",
      "    accuracy                           1.00        57\n",
      "   macro avg       1.00      1.00      1.00        57\n",
      "weighted avg       1.00      1.00      1.00        57\n",
      "\n"
     ]
    }
   ],
   "source": [
    "# Evaluate the model using default classification report\n",
    "from sklearn.metrics import classification_report\n",
    "target_names = ['guitar','violin']\n",
    "print(classification_report(Y_test, pred_Y_test, target_names=target_names))"
   ]
  },
  {
   "cell_type": "code",
   "execution_count": 14,
   "metadata": {},
   "outputs": [
    {
     "data": {
      "image/png": "[encoded data removed]",
      "text/plain": [
       "<Figure size 432x288 with 2 Axes>"
      ]
     },
     "metadata": {
      "needs_background": "light"
     },
     "output_type": "display_data"
    }
   ],
   "source": [
    "# Plot Confusion Matrix\n",
    "from cf_matrix import make_confusion_matrix  # Import library\n",
    "from sklearn.metrics import confusion_matrix\n",
    "cfm = confusion_matrix(Y_test, pred_Y_test) \n",
    "cfm_labels = ['True Negative','False Positive','False Negative','True Positive']  # set cfm labels\n",
    "categories = ['guitar','violin'] # Set group names based on Y data labels\n",
    "make_confusion_matrix(cfm,  # Format confusion matrix using custom library\n",
    "                      title='Instrument Confusion Matrix',\n",
    "                      group_names=cfm_labels,\n",
    "                      categories=categories,\n",
    "                      sum_stats=True,\n",
    "                      percent=True)"
   ]
  },
  {
   "cell_type": "code",
   "execution_count": 15,
   "metadata": {},
   "outputs": [
    {
     "name": "stdout",
     "output_type": "stream",
     "text": [
      "Cross Validation Model accuracy:  0.9947368421052631\n"
     ]
    }
   ],
   "source": [
    "# Use of Cross validation with a new model\n",
    "\n",
    "X_scaled = sc.fit_transform(X)  # scale all the X data\n",
    "from  sklearn.model_selection import cross_val_score  # Import cross validation methods\n",
    "\n",
    "# Create the second Logistic regression model\n",
    "crossValModel = LogisticRegression()  \n",
    "\n",
    "# Use cross_val_score to calculate the accuracy of the model using cross validation\n",
    "crossValScore = cross_val_score(crossValModel, X_scaled, Y, cv = 10, scoring='accuracy')\n",
    "print(\"Cross Validation Model accuracy: \",crossValScore.mean()) # print mean average of the 10 partitianed scores"
   ]
  },
  {
   "cell_type": "code",
   "execution_count": 16,
   "metadata": {},
   "outputs": [
    {
     "name": "stdout",
     "output_type": "stream",
     "text": [
      "Fitting 10 folds for each of 240 candidates, totalling 2400 fits\n"
     ]
    },
    {
     "name": "stderr",
     "output_type": "stream",
     "text": [
      "[Parallel(n_jobs=-1)]: Using backend LokyBackend with 4 concurrent workers.\n",
      "[Parallel(n_jobs=-1)]: Done  88 tasks      | elapsed:    2.0s\n",
      "[Parallel(n_jobs=-1)]: Done 2400 out of 2400 | elapsed:   10.7s finished\n"
     ]
    },
    {
     "data": {
      "text/plain": [
       "GridSearchCV(cv=10, estimator=LogisticRegression(), n_jobs=-1,\n",
       "             param_grid=[{'C': [10.0, 1.0, 0.1],\n",
       "                          'max_iter': [250, 500, 750, 1000],\n",
       "                          'penalty': ['l1', 'l2', 'elasticnet', 'none'],\n",
       "                          'solver': ['newton-cg', 'lbfgs', 'liblinear', 'saga',\n",
       "                                     'sag']}],\n",
       "             scoring='accuracy', verbose=True)"
      ]
     },
     "execution_count": 16,
     "metadata": {},
     "output_type": "execute_result"
    }
   ],
   "source": [
    "gridSearchModel = LogisticRegression()   # create a new logistic regression model for grid search\n",
    "\n",
    "# create dictionary of parameters for logistical regression\n",
    "param_grid = [\n",
    "    {'penalty' : ['l1', 'l2', 'elasticnet', 'none'],\n",
    "     'C' : [10.0, 1.0, 0.1],\n",
    "     'solver' : ['newton-cg', 'lbfgs', 'liblinear', 'saga', 'sag'],\n",
    "     'max_iter' : [250, 500, 750, 1000]}\n",
    "]\n",
    "\n",
    "# Grid Seach with 10 fold CV\n",
    "from sklearn.model_selection import GridSearchCV\n",
    "grid = GridSearchCV(gridSearchModel, param_grid, cv=10, verbose=True, n_jobs=-1, scoring='accuracy')\n",
    "grid.fit(X_scaled, Y)  # fit the instsantiated grid with scaled data"
   ]
  },
  {
   "cell_type": "code",
   "execution_count": 17,
   "metadata": {},
   "outputs": [
    {
     "name": "stdout",
     "output_type": "stream",
     "text": [
      "{'C': 1.0, 'max_iter': 250, 'penalty': 'l1', 'solver': 'liblinear'}\n",
      "LogisticRegression(max_iter=250, penalty='l1', solver='liblinear')\n",
      "Best Tuned Accuracy: 1.000000\n"
     ]
    }
   ],
   "source": [
    "# Accuracy of the grid search hyper-parameter tuned model\n",
    "print (grid.best_params_)\n",
    "print (grid.best_estimator_)\n",
    "print (\"Best Tuned Accuracy: {:.6f}\".format(grid.best_score_))"
   ]
  },
  {
   "cell_type": "code",
   "execution_count": null,
   "metadata": {},
   "outputs": [],
   "source": []
  }
 ],
 "metadata": {
  "kernelspec": {
   "display_name": "Python 3",
   "language": "python",
   "name": "python3"
  },
  "language_info": {
   "codemirror_mode": {
    "name": "ipython",
    "version": 3
   },
   "file_extension": ".py",
   "mimetype": "text/x-python",
   "name": "python",
   "nbconvert_exporter": "python",
   "pygments_lexer": "ipython3",
   "version": "3.8.5"
  }
 },
 "nbformat": 4,
 "nbformat_minor": 4
}
